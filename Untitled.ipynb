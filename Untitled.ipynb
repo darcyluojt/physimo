{
 "cells": [
  {
   "cell_type": "code",
   "execution_count": 3,
   "id": "b220bee0-aaf2-4345-a7ac-c8e76132d047",
   "metadata": {
    "scrolled": true
   },
   "outputs": [],
   "source": [
    "import os, sys\n",
    "\n",
    "# make sure your project root is on sys.path\n",
    "# adjust the path as needed so that 'physimopy' is importable\n",
    "sys.path.append(\"/path/to/your/learn/physimopy\")\n",
    "\n",
    "# tell Django what settings to use\n",
    "os.environ.setdefault(\"DJANGO_SETTINGS_MODULE\", \"physimopy.settings\")\n",
    "\n",
    "import django\n",
    "django.setup()"
   ]
  },
  {
   "cell_type": "code",
   "execution_count": 6,
   "id": "0c6f4617-cae8-409b-b6fc-4adf2cf5e2b8",
   "metadata": {},
   "outputs": [],
   "source": [
    "from tasks.models import Attachment, PoseLandmark"
   ]
  },
  {
   "cell_type": "code",
   "execution_count": 10,
   "id": "dbcfe1c4-9cba-4025-a93f-cfeacae9a120",
   "metadata": {},
   "outputs": [
    {
     "name": "stdout",
     "output_type": "stream",
     "text": [
      "[<PoseLandmark: Landmark 11 for Attachment 6 with visbility 0.9999483823776245>, <PoseLandmark: Landmark 12 for Attachment 6 with visbility 0.9991000890731812>, <PoseLandmark: Landmark 13 for Attachment 6 with visbility 0.995318591594696>, <PoseLandmark: Landmark 14 for Attachment 6 with visbility 0.13370782136917114>, <PoseLandmark: Landmark 15 for Attachment 6 with visbility 0.9803260564804077>, <PoseLandmark: Landmark 16 for Attachment 6 with visbility 0.21986813843250275>, <PoseLandmark: Landmark 17 for Attachment 6 with visbility 0.9593232274055481>, <PoseLandmark: Landmark 18 for Attachment 6 with visbility 0.211452454328537>, <PoseLandmark: Landmark 19 for Attachment 6 with visbility 0.9572671055793762>, <PoseLandmark: Landmark 20 for Attachment 6 with visbility 0.21695290505886078>, <PoseLandmark: Landmark 21 for Attachment 6 with visbility 0.944993793964386>, <PoseLandmark: Landmark 22 for Attachment 6 with visbility 0.228016659617424>, <PoseLandmark: Landmark 23 for Attachment 6 with visbility 0.998621940612793>, <PoseLandmark: Landmark 24 for Attachment 6 with visbility 0.9970786571502686>, <PoseLandmark: Landmark 25 for Attachment 6 with visbility 0.9334769248962402>, <PoseLandmark: Landmark 26 for Attachment 6 with visbility 0.2478048950433731>, <PoseLandmark: Landmark 27 for Attachment 6 with visbility 0.8664431571960449>, <PoseLandmark: Landmark 28 for Attachment 6 with visbility 0.3722890019416809>, <PoseLandmark: Landmark 29 for Attachment 6 with visbility 0.7163321375846863>, <PoseLandmark: Landmark 30 for Attachment 6 with visbility 0.45405474305152893>, <PoseLandmark: Landmark 31 for Attachment 6 with visbility 0.8616635203361511>, <PoseLandmark: Landmark 32 for Attachment 6 with visbility 0.4945800006389618>]\n"
     ]
    }
   ],
   "source": [
    "from asgiref.sync import sync_to_async\n",
    "\n",
    "# wrap the ORM call\n",
    "att = await sync_to_async(Attachment.objects.get)(pk=6)\n",
    "landmarks = await sync_to_async(list)(att.landmarks.all())\n",
    "print(landmarks)\n"
   ]
  },
  {
   "cell_type": "code",
   "execution_count": 14,
   "id": "b6a90521-ba02-4a18-b58d-a953eb385ac8",
   "metadata": {},
   "outputs": [],
   "source": [
    "extension = [2,6,7,8,10,11]\n",
    "left_extension = [6,11]\n",
    "right_extension = [2,7,8,10]"
   ]
  },
  {
   "cell_type": "code",
   "execution_count": 19,
   "id": "7cd2f77b-4a31-4c0f-b2d8-252bd7ed8757",
   "metadata": {},
   "outputs": [
    {
     "ename": "SynchronousOnlyOperation",
     "evalue": "You cannot call this from an async context - use a thread or sync_to_async.",
     "output_type": "error",
     "traceback": [
      "\u001b[31m---------------------------------------------------------------------------\u001b[39m",
      "\u001b[31mSynchronousOnlyOperation\u001b[39m                  Traceback (most recent call last)",
      "\u001b[36mCell\u001b[39m\u001b[36m \u001b[39m\u001b[32mIn[19]\u001b[39m\u001b[32m, line 1\u001b[39m\n\u001b[32m----> \u001b[39m\u001b[32m1\u001b[39m \u001b[43mAttachment\u001b[49m\u001b[43m.\u001b[49m\u001b[43mobjects\u001b[49m\u001b[43m.\u001b[49m\u001b[43mget\u001b[49m\u001b[43m(\u001b[49m\u001b[43mpk\u001b[49m\u001b[43m=\u001b[49m\u001b[32;43m1\u001b[39;49m\u001b[43m)\u001b[49m\n",
      "\u001b[36mFile \u001b[39m\u001b[32m~/code/learn/physimopy/.venv/lib/python3.11/site-packages/django/db/models/manager.py:87\u001b[39m, in \u001b[36mBaseManager._get_queryset_methods.<locals>.create_method.<locals>.manager_method\u001b[39m\u001b[34m(self, *args, **kwargs)\u001b[39m\n\u001b[32m     85\u001b[39m \u001b[38;5;129m@wraps\u001b[39m(method)\n\u001b[32m     86\u001b[39m \u001b[38;5;28;01mdef\u001b[39;00m\u001b[38;5;250m \u001b[39m\u001b[34mmanager_method\u001b[39m(\u001b[38;5;28mself\u001b[39m, *args, **kwargs):\n\u001b[32m---> \u001b[39m\u001b[32m87\u001b[39m     \u001b[38;5;28;01mreturn\u001b[39;00m \u001b[38;5;28;43mgetattr\u001b[39;49m\u001b[43m(\u001b[49m\u001b[38;5;28;43mself\u001b[39;49m\u001b[43m.\u001b[49m\u001b[43mget_queryset\u001b[49m\u001b[43m(\u001b[49m\u001b[43m)\u001b[49m\u001b[43m,\u001b[49m\u001b[43m \u001b[49m\u001b[43mname\u001b[49m\u001b[43m)\u001b[49m\u001b[43m(\u001b[49m\u001b[43m*\u001b[49m\u001b[43margs\u001b[49m\u001b[43m,\u001b[49m\u001b[43m \u001b[49m\u001b[43m*\u001b[49m\u001b[43m*\u001b[49m\u001b[43mkwargs\u001b[49m\u001b[43m)\u001b[49m\n",
      "\u001b[36mFile \u001b[39m\u001b[32m~/code/learn/physimopy/.venv/lib/python3.11/site-packages/django/db/models/query.py:629\u001b[39m, in \u001b[36mQuerySet.get\u001b[39m\u001b[34m(self, *args, **kwargs)\u001b[39m\n\u001b[32m    627\u001b[39m     limit = MAX_GET_RESULTS\n\u001b[32m    628\u001b[39m     clone.query.set_limits(high=limit)\n\u001b[32m--> \u001b[39m\u001b[32m629\u001b[39m num = \u001b[38;5;28;43mlen\u001b[39;49m\u001b[43m(\u001b[49m\u001b[43mclone\u001b[49m\u001b[43m)\u001b[49m\n\u001b[32m    630\u001b[39m \u001b[38;5;28;01mif\u001b[39;00m num == \u001b[32m1\u001b[39m:\n\u001b[32m    631\u001b[39m     \u001b[38;5;28;01mreturn\u001b[39;00m clone._result_cache[\u001b[32m0\u001b[39m]\n",
      "\u001b[36mFile \u001b[39m\u001b[32m~/code/learn/physimopy/.venv/lib/python3.11/site-packages/django/db/models/query.py:366\u001b[39m, in \u001b[36mQuerySet.__len__\u001b[39m\u001b[34m(self)\u001b[39m\n\u001b[32m    365\u001b[39m \u001b[38;5;28;01mdef\u001b[39;00m\u001b[38;5;250m \u001b[39m\u001b[34m__len__\u001b[39m(\u001b[38;5;28mself\u001b[39m):\n\u001b[32m--> \u001b[39m\u001b[32m366\u001b[39m     \u001b[38;5;28;43mself\u001b[39;49m\u001b[43m.\u001b[49m\u001b[43m_fetch_all\u001b[49m\u001b[43m(\u001b[49m\u001b[43m)\u001b[49m\n\u001b[32m    367\u001b[39m     \u001b[38;5;28;01mreturn\u001b[39;00m \u001b[38;5;28mlen\u001b[39m(\u001b[38;5;28mself\u001b[39m._result_cache)\n",
      "\u001b[36mFile \u001b[39m\u001b[32m~/code/learn/physimopy/.venv/lib/python3.11/site-packages/django/db/models/query.py:1949\u001b[39m, in \u001b[36mQuerySet._fetch_all\u001b[39m\u001b[34m(self)\u001b[39m\n\u001b[32m   1947\u001b[39m \u001b[38;5;28;01mdef\u001b[39;00m\u001b[38;5;250m \u001b[39m\u001b[34m_fetch_all\u001b[39m(\u001b[38;5;28mself\u001b[39m):\n\u001b[32m   1948\u001b[39m     \u001b[38;5;28;01mif\u001b[39;00m \u001b[38;5;28mself\u001b[39m._result_cache \u001b[38;5;129;01mis\u001b[39;00m \u001b[38;5;28;01mNone\u001b[39;00m:\n\u001b[32m-> \u001b[39m\u001b[32m1949\u001b[39m         \u001b[38;5;28mself\u001b[39m._result_cache = \u001b[38;5;28mlist\u001b[39m(\u001b[38;5;28mself\u001b[39m._iterable_class(\u001b[38;5;28mself\u001b[39m))\n\u001b[32m   1950\u001b[39m     \u001b[38;5;28;01mif\u001b[39;00m \u001b[38;5;28mself\u001b[39m._prefetch_related_lookups \u001b[38;5;129;01mand\u001b[39;00m \u001b[38;5;129;01mnot\u001b[39;00m \u001b[38;5;28mself\u001b[39m._prefetch_done:\n\u001b[32m   1951\u001b[39m         \u001b[38;5;28mself\u001b[39m._prefetch_related_objects()\n",
      "\u001b[36mFile \u001b[39m\u001b[32m~/code/learn/physimopy/.venv/lib/python3.11/site-packages/django/db/models/query.py:91\u001b[39m, in \u001b[36mModelIterable.__iter__\u001b[39m\u001b[34m(self)\u001b[39m\n\u001b[32m     88\u001b[39m compiler = queryset.query.get_compiler(using=db)\n\u001b[32m     89\u001b[39m \u001b[38;5;66;03m# Execute the query. This will also fill compiler.select, klass_info,\u001b[39;00m\n\u001b[32m     90\u001b[39m \u001b[38;5;66;03m# and annotations.\u001b[39;00m\n\u001b[32m---> \u001b[39m\u001b[32m91\u001b[39m results = \u001b[43mcompiler\u001b[49m\u001b[43m.\u001b[49m\u001b[43mexecute_sql\u001b[49m\u001b[43m(\u001b[49m\n\u001b[32m     92\u001b[39m \u001b[43m    \u001b[49m\u001b[43mchunked_fetch\u001b[49m\u001b[43m=\u001b[49m\u001b[38;5;28;43mself\u001b[39;49m\u001b[43m.\u001b[49m\u001b[43mchunked_fetch\u001b[49m\u001b[43m,\u001b[49m\u001b[43m \u001b[49m\u001b[43mchunk_size\u001b[49m\u001b[43m=\u001b[49m\u001b[38;5;28;43mself\u001b[39;49m\u001b[43m.\u001b[49m\u001b[43mchunk_size\u001b[49m\n\u001b[32m     93\u001b[39m \u001b[43m\u001b[49m\u001b[43m)\u001b[49m\n\u001b[32m     94\u001b[39m select, klass_info, annotation_col_map = (\n\u001b[32m     95\u001b[39m     compiler.select,\n\u001b[32m     96\u001b[39m     compiler.klass_info,\n\u001b[32m     97\u001b[39m     compiler.annotation_col_map,\n\u001b[32m     98\u001b[39m )\n\u001b[32m     99\u001b[39m model_cls = klass_info[\u001b[33m\"\u001b[39m\u001b[33mmodel\u001b[39m\u001b[33m\"\u001b[39m]\n",
      "\u001b[36mFile \u001b[39m\u001b[32m~/code/learn/physimopy/.venv/lib/python3.11/site-packages/django/db/models/sql/compiler.py:1621\u001b[39m, in \u001b[36mSQLCompiler.execute_sql\u001b[39m\u001b[34m(self, result_type, chunked_fetch, chunk_size)\u001b[39m\n\u001b[32m   1619\u001b[39m     cursor = \u001b[38;5;28mself\u001b[39m.connection.chunked_cursor()\n\u001b[32m   1620\u001b[39m \u001b[38;5;28;01melse\u001b[39;00m:\n\u001b[32m-> \u001b[39m\u001b[32m1621\u001b[39m     cursor = \u001b[38;5;28;43mself\u001b[39;49m\u001b[43m.\u001b[49m\u001b[43mconnection\u001b[49m\u001b[43m.\u001b[49m\u001b[43mcursor\u001b[49m\u001b[43m(\u001b[49m\u001b[43m)\u001b[49m\n\u001b[32m   1622\u001b[39m \u001b[38;5;28;01mtry\u001b[39;00m:\n\u001b[32m   1623\u001b[39m     cursor.execute(sql, params)\n",
      "\u001b[36mFile \u001b[39m\u001b[32m~/code/learn/physimopy/.venv/lib/python3.11/site-packages/django/utils/asyncio.py:24\u001b[39m, in \u001b[36masync_unsafe.<locals>.decorator.<locals>.inner\u001b[39m\u001b[34m(*args, **kwargs)\u001b[39m\n\u001b[32m     22\u001b[39m \u001b[38;5;28;01melse\u001b[39;00m:\n\u001b[32m     23\u001b[39m     \u001b[38;5;28;01mif\u001b[39;00m \u001b[38;5;129;01mnot\u001b[39;00m os.environ.get(\u001b[33m\"\u001b[39m\u001b[33mDJANGO_ALLOW_ASYNC_UNSAFE\u001b[39m\u001b[33m\"\u001b[39m):\n\u001b[32m---> \u001b[39m\u001b[32m24\u001b[39m         \u001b[38;5;28;01mraise\u001b[39;00m SynchronousOnlyOperation(message)\n\u001b[32m     25\u001b[39m \u001b[38;5;66;03m# Pass onward.\u001b[39;00m\n\u001b[32m     26\u001b[39m \u001b[38;5;28;01mreturn\u001b[39;00m func(*args, **kwargs)\n",
      "\u001b[31mSynchronousOnlyOperation\u001b[39m: You cannot call this from an async context - use a thread or sync_to_async."
     ]
    }
   ],
   "source": [
    "Attachment.objects.get(pk=1)"
   ]
  },
  {
   "cell_type": "code",
   "execution_count": 15,
   "id": "ad74e459-2976-442b-9705-5f61595ef349",
   "metadata": {},
   "outputs": [
    {
     "ename": "SynchronousOnlyOperation",
     "evalue": "You cannot call this from an async context - use a thread or sync_to_async.",
     "output_type": "error",
     "traceback": [
      "\u001b[31m---------------------------------------------------------------------------\u001b[39m",
      "\u001b[31mSynchronousOnlyOperation\u001b[39m                  Traceback (most recent call last)",
      "\u001b[36mCell\u001b[39m\u001b[36m \u001b[39m\u001b[32mIn[15]\u001b[39m\u001b[32m, line 1\u001b[39m\n\u001b[32m----> \u001b[39m\u001b[32m1\u001b[39m \u001b[43m[\u001b[49m\u001b[43mAttachment\u001b[49m\u001b[43m.\u001b[49m\u001b[43mobjects\u001b[49m\u001b[43m.\u001b[49m\u001b[43mget\u001b[49m\u001b[43m(\u001b[49m\u001b[43mpk\u001b[49m\u001b[43m=\u001b[49m\u001b[43mi\u001b[49m\u001b[43m)\u001b[49m\u001b[43m \u001b[49m\u001b[38;5;28;43;01mfor\u001b[39;49;00m\u001b[43m \u001b[49m\u001b[43mi\u001b[49m\u001b[43m \u001b[49m\u001b[38;5;129;43;01min\u001b[39;49;00m\u001b[43m \u001b[49m\u001b[43mleft_extension\u001b[49m\u001b[43m]\u001b[49m\n",
      "\u001b[36mCell\u001b[39m\u001b[36m \u001b[39m\u001b[32mIn[15]\u001b[39m\u001b[32m, line 1\u001b[39m, in \u001b[36m<listcomp>\u001b[39m\u001b[34m(.0)\u001b[39m\n\u001b[32m----> \u001b[39m\u001b[32m1\u001b[39m [\u001b[43mAttachment\u001b[49m\u001b[43m.\u001b[49m\u001b[43mobjects\u001b[49m\u001b[43m.\u001b[49m\u001b[43mget\u001b[49m\u001b[43m(\u001b[49m\u001b[43mpk\u001b[49m\u001b[43m=\u001b[49m\u001b[43mi\u001b[49m\u001b[43m)\u001b[49m \u001b[38;5;28;01mfor\u001b[39;00m i \u001b[38;5;129;01min\u001b[39;00m left_extension]\n",
      "\u001b[36mFile \u001b[39m\u001b[32m~/code/learn/physimopy/.venv/lib/python3.11/site-packages/django/db/models/manager.py:87\u001b[39m, in \u001b[36mBaseManager._get_queryset_methods.<locals>.create_method.<locals>.manager_method\u001b[39m\u001b[34m(self, *args, **kwargs)\u001b[39m\n\u001b[32m     85\u001b[39m \u001b[38;5;129m@wraps\u001b[39m(method)\n\u001b[32m     86\u001b[39m \u001b[38;5;28;01mdef\u001b[39;00m\u001b[38;5;250m \u001b[39m\u001b[34mmanager_method\u001b[39m(\u001b[38;5;28mself\u001b[39m, *args, **kwargs):\n\u001b[32m---> \u001b[39m\u001b[32m87\u001b[39m     \u001b[38;5;28;01mreturn\u001b[39;00m \u001b[38;5;28;43mgetattr\u001b[39;49m\u001b[43m(\u001b[49m\u001b[38;5;28;43mself\u001b[39;49m\u001b[43m.\u001b[49m\u001b[43mget_queryset\u001b[49m\u001b[43m(\u001b[49m\u001b[43m)\u001b[49m\u001b[43m,\u001b[49m\u001b[43m \u001b[49m\u001b[43mname\u001b[49m\u001b[43m)\u001b[49m\u001b[43m(\u001b[49m\u001b[43m*\u001b[49m\u001b[43margs\u001b[49m\u001b[43m,\u001b[49m\u001b[43m \u001b[49m\u001b[43m*\u001b[49m\u001b[43m*\u001b[49m\u001b[43mkwargs\u001b[49m\u001b[43m)\u001b[49m\n",
      "\u001b[36mFile \u001b[39m\u001b[32m~/code/learn/physimopy/.venv/lib/python3.11/site-packages/django/db/models/query.py:629\u001b[39m, in \u001b[36mQuerySet.get\u001b[39m\u001b[34m(self, *args, **kwargs)\u001b[39m\n\u001b[32m    627\u001b[39m     limit = MAX_GET_RESULTS\n\u001b[32m    628\u001b[39m     clone.query.set_limits(high=limit)\n\u001b[32m--> \u001b[39m\u001b[32m629\u001b[39m num = \u001b[38;5;28;43mlen\u001b[39;49m\u001b[43m(\u001b[49m\u001b[43mclone\u001b[49m\u001b[43m)\u001b[49m\n\u001b[32m    630\u001b[39m \u001b[38;5;28;01mif\u001b[39;00m num == \u001b[32m1\u001b[39m:\n\u001b[32m    631\u001b[39m     \u001b[38;5;28;01mreturn\u001b[39;00m clone._result_cache[\u001b[32m0\u001b[39m]\n",
      "\u001b[36mFile \u001b[39m\u001b[32m~/code/learn/physimopy/.venv/lib/python3.11/site-packages/django/db/models/query.py:366\u001b[39m, in \u001b[36mQuerySet.__len__\u001b[39m\u001b[34m(self)\u001b[39m\n\u001b[32m    365\u001b[39m \u001b[38;5;28;01mdef\u001b[39;00m\u001b[38;5;250m \u001b[39m\u001b[34m__len__\u001b[39m(\u001b[38;5;28mself\u001b[39m):\n\u001b[32m--> \u001b[39m\u001b[32m366\u001b[39m     \u001b[38;5;28;43mself\u001b[39;49m\u001b[43m.\u001b[49m\u001b[43m_fetch_all\u001b[49m\u001b[43m(\u001b[49m\u001b[43m)\u001b[49m\n\u001b[32m    367\u001b[39m     \u001b[38;5;28;01mreturn\u001b[39;00m \u001b[38;5;28mlen\u001b[39m(\u001b[38;5;28mself\u001b[39m._result_cache)\n",
      "\u001b[36mFile \u001b[39m\u001b[32m~/code/learn/physimopy/.venv/lib/python3.11/site-packages/django/db/models/query.py:1949\u001b[39m, in \u001b[36mQuerySet._fetch_all\u001b[39m\u001b[34m(self)\u001b[39m\n\u001b[32m   1947\u001b[39m \u001b[38;5;28;01mdef\u001b[39;00m\u001b[38;5;250m \u001b[39m\u001b[34m_fetch_all\u001b[39m(\u001b[38;5;28mself\u001b[39m):\n\u001b[32m   1948\u001b[39m     \u001b[38;5;28;01mif\u001b[39;00m \u001b[38;5;28mself\u001b[39m._result_cache \u001b[38;5;129;01mis\u001b[39;00m \u001b[38;5;28;01mNone\u001b[39;00m:\n\u001b[32m-> \u001b[39m\u001b[32m1949\u001b[39m         \u001b[38;5;28mself\u001b[39m._result_cache = \u001b[38;5;28mlist\u001b[39m(\u001b[38;5;28mself\u001b[39m._iterable_class(\u001b[38;5;28mself\u001b[39m))\n\u001b[32m   1950\u001b[39m     \u001b[38;5;28;01mif\u001b[39;00m \u001b[38;5;28mself\u001b[39m._prefetch_related_lookups \u001b[38;5;129;01mand\u001b[39;00m \u001b[38;5;129;01mnot\u001b[39;00m \u001b[38;5;28mself\u001b[39m._prefetch_done:\n\u001b[32m   1951\u001b[39m         \u001b[38;5;28mself\u001b[39m._prefetch_related_objects()\n",
      "\u001b[36mFile \u001b[39m\u001b[32m~/code/learn/physimopy/.venv/lib/python3.11/site-packages/django/db/models/query.py:91\u001b[39m, in \u001b[36mModelIterable.__iter__\u001b[39m\u001b[34m(self)\u001b[39m\n\u001b[32m     88\u001b[39m compiler = queryset.query.get_compiler(using=db)\n\u001b[32m     89\u001b[39m \u001b[38;5;66;03m# Execute the query. This will also fill compiler.select, klass_info,\u001b[39;00m\n\u001b[32m     90\u001b[39m \u001b[38;5;66;03m# and annotations.\u001b[39;00m\n\u001b[32m---> \u001b[39m\u001b[32m91\u001b[39m results = \u001b[43mcompiler\u001b[49m\u001b[43m.\u001b[49m\u001b[43mexecute_sql\u001b[49m\u001b[43m(\u001b[49m\n\u001b[32m     92\u001b[39m \u001b[43m    \u001b[49m\u001b[43mchunked_fetch\u001b[49m\u001b[43m=\u001b[49m\u001b[38;5;28;43mself\u001b[39;49m\u001b[43m.\u001b[49m\u001b[43mchunked_fetch\u001b[49m\u001b[43m,\u001b[49m\u001b[43m \u001b[49m\u001b[43mchunk_size\u001b[49m\u001b[43m=\u001b[49m\u001b[38;5;28;43mself\u001b[39;49m\u001b[43m.\u001b[49m\u001b[43mchunk_size\u001b[49m\n\u001b[32m     93\u001b[39m \u001b[43m\u001b[49m\u001b[43m)\u001b[49m\n\u001b[32m     94\u001b[39m select, klass_info, annotation_col_map = (\n\u001b[32m     95\u001b[39m     compiler.select,\n\u001b[32m     96\u001b[39m     compiler.klass_info,\n\u001b[32m     97\u001b[39m     compiler.annotation_col_map,\n\u001b[32m     98\u001b[39m )\n\u001b[32m     99\u001b[39m model_cls = klass_info[\u001b[33m\"\u001b[39m\u001b[33mmodel\u001b[39m\u001b[33m\"\u001b[39m]\n",
      "\u001b[36mFile \u001b[39m\u001b[32m~/code/learn/physimopy/.venv/lib/python3.11/site-packages/django/db/models/sql/compiler.py:1621\u001b[39m, in \u001b[36mSQLCompiler.execute_sql\u001b[39m\u001b[34m(self, result_type, chunked_fetch, chunk_size)\u001b[39m\n\u001b[32m   1619\u001b[39m     cursor = \u001b[38;5;28mself\u001b[39m.connection.chunked_cursor()\n\u001b[32m   1620\u001b[39m \u001b[38;5;28;01melse\u001b[39;00m:\n\u001b[32m-> \u001b[39m\u001b[32m1621\u001b[39m     cursor = \u001b[38;5;28;43mself\u001b[39;49m\u001b[43m.\u001b[49m\u001b[43mconnection\u001b[49m\u001b[43m.\u001b[49m\u001b[43mcursor\u001b[49m\u001b[43m(\u001b[49m\u001b[43m)\u001b[49m\n\u001b[32m   1622\u001b[39m \u001b[38;5;28;01mtry\u001b[39;00m:\n\u001b[32m   1623\u001b[39m     cursor.execute(sql, params)\n",
      "\u001b[36mFile \u001b[39m\u001b[32m~/code/learn/physimopy/.venv/lib/python3.11/site-packages/django/utils/asyncio.py:24\u001b[39m, in \u001b[36masync_unsafe.<locals>.decorator.<locals>.inner\u001b[39m\u001b[34m(*args, **kwargs)\u001b[39m\n\u001b[32m     22\u001b[39m \u001b[38;5;28;01melse\u001b[39;00m:\n\u001b[32m     23\u001b[39m     \u001b[38;5;28;01mif\u001b[39;00m \u001b[38;5;129;01mnot\u001b[39;00m os.environ.get(\u001b[33m\"\u001b[39m\u001b[33mDJANGO_ALLOW_ASYNC_UNSAFE\u001b[39m\u001b[33m\"\u001b[39m):\n\u001b[32m---> \u001b[39m\u001b[32m24\u001b[39m         \u001b[38;5;28;01mraise\u001b[39;00m SynchronousOnlyOperation(message)\n\u001b[32m     25\u001b[39m \u001b[38;5;66;03m# Pass onward.\u001b[39;00m\n\u001b[32m     26\u001b[39m \u001b[38;5;28;01mreturn\u001b[39;00m func(*args, **kwargs)\n",
      "\u001b[31mSynchronousOnlyOperation\u001b[39m: You cannot call this from an async context - use a thread or sync_to_async."
     ]
    }
   ],
   "source": [
    "[Attachment.objects.get(pk=i) for i in left_extension]\n",
    "    "
   ]
  },
  {
   "cell_type": "code",
   "execution_count": null,
   "id": "36f79749-5704-451c-83d6-f14387107656",
   "metadata": {},
   "outputs": [],
   "source": []
  }
 ],
 "metadata": {
  "kernelspec": {
   "display_name": "Python 3 (ipykernel)",
   "language": "python",
   "name": "python3"
  },
  "language_info": {
   "codemirror_mode": {
    "name": "ipython",
    "version": 3
   },
   "file_extension": ".py",
   "mimetype": "text/x-python",
   "name": "python",
   "nbconvert_exporter": "python",
   "pygments_lexer": "ipython3",
   "version": "3.11.13"
  }
 },
 "nbformat": 4,
 "nbformat_minor": 5
}
